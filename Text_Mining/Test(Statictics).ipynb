{
 "cells": [
  {
   "cell_type": "markdown",
   "id": "bf7c8470",
   "metadata": {},
   "source": [
    "1. Given a dataset of integers or floating-point numbers, calculate the \n",
    "following descriptive statistics:\n",
    "1) Mean\n",
    "2) Median\n",
    "3) Mode\n",
    "4) Variance\n",
    "5) Standard Deviation\n",
    "Sample Dataset: [20, 40, 40, 40, 30, 50, 60]"
   ]
  },
  {
   "cell_type": "code",
   "execution_count": 18,
   "id": "d0c22af6",
   "metadata": {},
   "outputs": [
    {
     "data": {
      "text/html": [
       "<div>\n",
       "<style scoped>\n",
       "    .dataframe tbody tr th:only-of-type {\n",
       "        vertical-align: middle;\n",
       "    }\n",
       "\n",
       "    .dataframe tbody tr th {\n",
       "        vertical-align: top;\n",
       "    }\n",
       "\n",
       "    .dataframe thead th {\n",
       "        text-align: right;\n",
       "    }\n",
       "</style>\n",
       "<table border=\"1\" class=\"dataframe\">\n",
       "  <thead>\n",
       "    <tr style=\"text-align: right;\">\n",
       "      <th></th>\n",
       "      <th>0</th>\n",
       "    </tr>\n",
       "  </thead>\n",
       "  <tbody>\n",
       "    <tr>\n",
       "      <th>0</th>\n",
       "      <td>20</td>\n",
       "    </tr>\n",
       "    <tr>\n",
       "      <th>1</th>\n",
       "      <td>40</td>\n",
       "    </tr>\n",
       "    <tr>\n",
       "      <th>2</th>\n",
       "      <td>40</td>\n",
       "    </tr>\n",
       "    <tr>\n",
       "      <th>3</th>\n",
       "      <td>40</td>\n",
       "    </tr>\n",
       "    <tr>\n",
       "      <th>4</th>\n",
       "      <td>30</td>\n",
       "    </tr>\n",
       "    <tr>\n",
       "      <th>5</th>\n",
       "      <td>50</td>\n",
       "    </tr>\n",
       "    <tr>\n",
       "      <th>6</th>\n",
       "      <td>60</td>\n",
       "    </tr>\n",
       "  </tbody>\n",
       "</table>\n",
       "</div>"
      ],
      "text/plain": [
       "    0\n",
       "0  20\n",
       "1  40\n",
       "2  40\n",
       "3  40\n",
       "4  30\n",
       "5  50\n",
       "6  60"
      ]
     },
     "execution_count": 18,
     "metadata": {},
     "output_type": "execute_result"
    }
   ],
   "source": [
    "import pandas as pd\n",
    "sample = [20, 40, 40, 40, 30, 50, 60]\n",
    "df=pd.DataFrame(sample)\n",
    "#sample.mean()\n",
    "df"
   ]
  },
  {
   "cell_type": "code",
   "execution_count": 19,
   "id": "81a3a43f",
   "metadata": {},
   "outputs": [
    {
     "data": {
      "text/plain": [
       "0    40.0\n",
       "dtype: float64"
      ]
     },
     "execution_count": 19,
     "metadata": {},
     "output_type": "execute_result"
    }
   ],
   "source": [
    "df.mean()"
   ]
  },
  {
   "cell_type": "code",
   "execution_count": 20,
   "id": "fe7c5490",
   "metadata": {},
   "outputs": [
    {
     "data": {
      "text/plain": [
       "0    40.0\n",
       "dtype: float64"
      ]
     },
     "execution_count": 20,
     "metadata": {},
     "output_type": "execute_result"
    }
   ],
   "source": [
    "df.median()"
   ]
  },
  {
   "cell_type": "code",
   "execution_count": 21,
   "id": "83f836ae",
   "metadata": {},
   "outputs": [
    {
     "data": {
      "text/html": [
       "<div>\n",
       "<style scoped>\n",
       "    .dataframe tbody tr th:only-of-type {\n",
       "        vertical-align: middle;\n",
       "    }\n",
       "\n",
       "    .dataframe tbody tr th {\n",
       "        vertical-align: top;\n",
       "    }\n",
       "\n",
       "    .dataframe thead th {\n",
       "        text-align: right;\n",
       "    }\n",
       "</style>\n",
       "<table border=\"1\" class=\"dataframe\">\n",
       "  <thead>\n",
       "    <tr style=\"text-align: right;\">\n",
       "      <th></th>\n",
       "      <th>0</th>\n",
       "    </tr>\n",
       "  </thead>\n",
       "  <tbody>\n",
       "    <tr>\n",
       "      <th>0</th>\n",
       "      <td>40</td>\n",
       "    </tr>\n",
       "  </tbody>\n",
       "</table>\n",
       "</div>"
      ],
      "text/plain": [
       "    0\n",
       "0  40"
      ]
     },
     "execution_count": 21,
     "metadata": {},
     "output_type": "execute_result"
    }
   ],
   "source": [
    "df.mode()"
   ]
  },
  {
   "cell_type": "code",
   "execution_count": 22,
   "id": "5acc1266",
   "metadata": {},
   "outputs": [
    {
     "data": {
      "text/plain": [
       "0    166.666667\n",
       "dtype: float64"
      ]
     },
     "execution_count": 22,
     "metadata": {},
     "output_type": "execute_result"
    }
   ],
   "source": [
    "df.var()"
   ]
  },
  {
   "cell_type": "code",
   "execution_count": 23,
   "id": "779e59b6",
   "metadata": {},
   "outputs": [
    {
     "data": {
      "text/plain": [
       "0    12.909944\n",
       "dtype: float64"
      ]
     },
     "execution_count": 23,
     "metadata": {},
     "output_type": "execute_result"
    }
   ],
   "source": [
    "df.std()"
   ]
  },
  {
   "cell_type": "markdown",
   "id": "35abc87c",
   "metadata": {},
   "source": [
    "2. Generate a dataset of 1,000 random values generated from a lognormal \n",
    "distribution with a mean of 0 and a standard deviation of 1 in the log-space, \n",
    "perform the following tasks:\n",
    "1) Plot the histogram of the dataset.\n",
    "2) Calculate the mean and median of the dataset.\n",
    "3) Fit a lognormal distribution to the data and overlay the probability density \n",
    "function (PDF) on the histogram."
   ]
  },
  {
   "cell_type": "code",
   "execution_count": null,
   "id": "395de550",
   "metadata": {},
   "outputs": [],
   "source": []
  },
  {
   "cell_type": "markdown",
   "id": "b1836406",
   "metadata": {},
   "source": [
    "3. Generate 1,000 random values following a logarithmic distribution with \n",
    "a probability parameter p = 0.3. Perform the following tasks:\n",
    "1) Plot the histogram of the dataset.\n",
    "2) Calculate the mean of the dataset.\n",
    "3) Overlay the probability mass function (PMF) of the logarithmic \n",
    "distribution on the histogram.\n"
   ]
  },
  {
   "cell_type": "code",
   "execution_count": 36,
   "id": "d79c0e58",
   "metadata": {},
   "outputs": [],
   "source": [
    "import random "
   ]
  },
  {
   "cell_type": "markdown",
   "id": "bb36cfa5",
   "metadata": {},
   "source": [
    "4. Given a dataset containing various types of data, categorize each \n",
    "variable into the appropriate statistical data type: Nominal, Ordinal, \n",
    "Interval, or Ratio. Then, write code to demonstrate how you would work \n",
    "with each type of data.\n",
    "Example Dataset:\n",
    "1.            ID       Name      Age     Education_Level    Salary  Joining_Year\n",
    "2.             1       Sophie    22      Bachelor's         60000       2022\n",
    "3.             2       Aryan     25      Master's           75000       2020\n",
    "4.             3       Amit      28      PhD                78000       2018\n",
    "5.             4       Charu     26      Bachelor's         45000       2015\n",
    "6.             5       Piyush    37      Master's           92000       2010"
   ]
  },
  {
   "cell_type": "code",
   "execution_count": 58,
   "id": "91a36eb1",
   "metadata": {},
   "outputs": [],
   "source": [
    "import pandas as pd\n",
    "\n",
    "# Example dataset\n",
    "data = {\n",
    "    'id': [1, 2, 3, 4, 5],\n",
    "    'name': ['sophie', 'aryan', 'amit', 'charu', 'piyush'],\n",
    "    'age': [22, 25, 28, 26, 37],\n",
    "    'education_level': ['bachelor\\'s', 'master\\'s', 'phd', 'bachelor\\'s', 'master\\'s'],\n",
    "    'salary': [60000, 75000, 78000, 45000, 92000],\n",
    "    'joining_year': [2022, 2020, 2018, 2015, 2010]\n",
    "}\n",
    "\n",
    "df = pd.DataFrame(data)\n"
   ]
  },
  {
   "cell_type": "code",
   "execution_count": 59,
   "id": "3c303ca0",
   "metadata": {},
   "outputs": [
    {
     "name": "stdout",
     "output_type": "stream",
     "text": [
      "Nominal Data (id and name):\n",
      "   id    name\n",
      "0   1  sophie\n",
      "1   2   aryan\n",
      "2   3    amit\n",
      "3   4   charu\n",
      "4   5  piyush\n",
      "\n",
      "Ordinal Data (education_level):\n",
      "  education_level\n",
      "0      bachelor's\n",
      "1        master's\n",
      "2             phd\n",
      "3      bachelor's\n",
      "4        master's\n",
      "\n",
      "Interval Data (joining_year):\n",
      "   joining_year\n",
      "0          2022\n",
      "1          2020\n",
      "2          2018\n",
      "3          2015\n",
      "4          2010\n",
      "\n",
      "Ratio Data (age and salary):\n",
      "   age  salary\n",
      "0   22   60000\n",
      "1   25   75000\n",
      "2   28   78000\n",
      "3   26   45000\n",
      "4   37   92000\n",
      "\n",
      "Number of unique names: 5\n",
      "\n",
      "Sorted by education_level:\n",
      "     name education_level\n",
      "0  sophie      bachelor's\n",
      "3   charu      bachelor's\n",
      "1   aryan        master's\n",
      "4  piyush        master's\n",
      "2    amit             phd\n",
      "\n",
      "Years since joining:\n",
      "     name  years_since_joining\n",
      "0  sophie                    2\n",
      "1   aryan                    4\n",
      "2    amit                    6\n",
      "3   charu                    9\n",
      "4  piyush                   14\n",
      "\n",
      "Average salary: 70000.0\n"
     ]
    }
   ],
   "source": [
    "print(\"Nominal Data (id and name):\")\n",
    "print(df[['id', 'name']])\n",
    "\n",
    "education_order = ['bachelor\\'s', 'master\\'s', 'phd']\n",
    "df['education_level'] = pd.Categorical(df['education_level'], categories=education_order, ordered=True)\n",
    "print(\"\\nOrdinal Data (education_level):\")\n",
    "print(df[['education_level']])\n",
    "\n",
    "print(\"\\nInterval Data (joining_year):\")\n",
    "print(df[['joining_year']])\n",
    "\n",
    "print(\"\\nRatio Data (age and salary):\")\n",
    "print(df[['age', 'salary']])\n",
    "\n",
    "unique_names = df['name'].nunique()\n",
    "print(f\"\\nNumber of unique names: {unique_names}\")\n",
    "\n",
    "sorted_by_education = df.sort_values('education_level')\n",
    "print(\"\\nSorted by education_level:\")\n",
    "print(sorted_by_education[['name', 'education_level']])\n",
    "\n",
    "df['years_since_joining'] = 2024 - df['joining_year']\n",
    "print(\"\\nYears since joining:\")\n",
    "print(df[['name', 'years_since_joining']])\n",
    "\n",
    "average_salary = df['salary'].mean()\n",
    "print(f\"\\nAverage salary: {average_salary}\")"
   ]
  },
  {
   "cell_type": "markdown",
   "id": "a5cce670",
   "metadata": {},
   "source": [
    "5. Given a data of house prices [200000, 250000, 150000, 350000, 300000, \n",
    "400000, 450000, 600000, 650000, 500000, 550000]. Calculate the following:\n",
    " The median of the dataset.\n",
    " The 25th percentile (1st quantile), 50th percentile (2nd quantile, also the \n",
    "median), and 75th percentile (3rd quantile).\n",
    " Visualize the data using a box plot"
   ]
  },
  {
   "cell_type": "code",
   "execution_count": null,
   "id": "a744c6bf",
   "metadata": {},
   "outputs": [],
   "source": []
  },
  {
   "cell_type": "code",
   "execution_count": 46,
   "id": "550d5eee",
   "metadata": {},
   "outputs": [],
   "source": [
    "import pandas as pd\n",
    "sample = [200000, 250000, 150000, 350000, 300000, 400000, 450000, 600000, 650000, 500000, 550000]\n",
    "df = pd.DataFrame(sample)"
   ]
  },
  {
   "cell_type": "code",
   "execution_count": 47,
   "id": "5baf9c2a",
   "metadata": {},
   "outputs": [
    {
     "data": {
      "text/plain": [
       "0    400000.0\n",
       "dtype: float64"
      ]
     },
     "execution_count": 47,
     "metadata": {},
     "output_type": "execute_result"
    }
   ],
   "source": [
    "df.median()"
   ]
  },
  {
   "cell_type": "code",
   "execution_count": 50,
   "id": "5fefd8b0",
   "metadata": {},
   "outputs": [
    {
     "data": {
      "text/html": [
       "<div>\n",
       "<style scoped>\n",
       "    .dataframe tbody tr th:only-of-type {\n",
       "        vertical-align: middle;\n",
       "    }\n",
       "\n",
       "    .dataframe tbody tr th {\n",
       "        vertical-align: top;\n",
       "    }\n",
       "\n",
       "    .dataframe thead th {\n",
       "        text-align: right;\n",
       "    }\n",
       "</style>\n",
       "<table border=\"1\" class=\"dataframe\">\n",
       "  <thead>\n",
       "    <tr style=\"text-align: right;\">\n",
       "      <th></th>\n",
       "      <th>0</th>\n",
       "    </tr>\n",
       "  </thead>\n",
       "  <tbody>\n",
       "    <tr>\n",
       "      <th>count</th>\n",
       "      <td>11.000000</td>\n",
       "    </tr>\n",
       "    <tr>\n",
       "      <th>mean</th>\n",
       "      <td>400000.000000</td>\n",
       "    </tr>\n",
       "    <tr>\n",
       "      <th>std</th>\n",
       "      <td>165831.239518</td>\n",
       "    </tr>\n",
       "    <tr>\n",
       "      <th>min</th>\n",
       "      <td>150000.000000</td>\n",
       "    </tr>\n",
       "    <tr>\n",
       "      <th>25%</th>\n",
       "      <td>275000.000000</td>\n",
       "    </tr>\n",
       "    <tr>\n",
       "      <th>50%</th>\n",
       "      <td>400000.000000</td>\n",
       "    </tr>\n",
       "    <tr>\n",
       "      <th>75%</th>\n",
       "      <td>525000.000000</td>\n",
       "    </tr>\n",
       "    <tr>\n",
       "      <th>max</th>\n",
       "      <td>650000.000000</td>\n",
       "    </tr>\n",
       "  </tbody>\n",
       "</table>\n",
       "</div>"
      ],
      "text/plain": [
       "                   0\n",
       "count      11.000000\n",
       "mean   400000.000000\n",
       "std    165831.239518\n",
       "min    150000.000000\n",
       "25%    275000.000000\n",
       "50%    400000.000000\n",
       "75%    525000.000000\n",
       "max    650000.000000"
      ]
     },
     "execution_count": 50,
     "metadata": {},
     "output_type": "execute_result"
    }
   ],
   "source": [
    "df.describe()"
   ]
  },
  {
   "cell_type": "code",
   "execution_count": 56,
   "id": "f5ed5bcd",
   "metadata": {},
   "outputs": [
    {
     "data": {
      "text/html": [
       "<div>\n",
       "<style scoped>\n",
       "    .dataframe tbody tr th:only-of-type {\n",
       "        vertical-align: middle;\n",
       "    }\n",
       "\n",
       "    .dataframe tbody tr th {\n",
       "        vertical-align: top;\n",
       "    }\n",
       "\n",
       "    .dataframe thead th {\n",
       "        text-align: right;\n",
       "    }\n",
       "</style>\n",
       "<table border=\"1\" class=\"dataframe\">\n",
       "  <thead>\n",
       "    <tr style=\"text-align: right;\">\n",
       "      <th></th>\n",
       "      <th>0</th>\n",
       "    </tr>\n",
       "  </thead>\n",
       "  <tbody>\n",
       "    <tr>\n",
       "      <th>0</th>\n",
       "      <td>200000</td>\n",
       "    </tr>\n",
       "    <tr>\n",
       "      <th>1</th>\n",
       "      <td>250000</td>\n",
       "    </tr>\n",
       "    <tr>\n",
       "      <th>2</th>\n",
       "      <td>150000</td>\n",
       "    </tr>\n",
       "    <tr>\n",
       "      <th>3</th>\n",
       "      <td>350000</td>\n",
       "    </tr>\n",
       "    <tr>\n",
       "      <th>4</th>\n",
       "      <td>300000</td>\n",
       "    </tr>\n",
       "  </tbody>\n",
       "</table>\n",
       "</div>"
      ],
      "text/plain": [
       "        0\n",
       "0  200000\n",
       "1  250000\n",
       "2  150000\n",
       "3  350000\n",
       "4  300000"
      ]
     },
     "execution_count": 56,
     "metadata": {},
     "output_type": "execute_result"
    }
   ],
   "source": [
    "import numpy as np \n",
    "import pandas as pd \n",
    "import matplotlib.pyplot as plt \n",
    "%matplotlib inline \n",
    "df  \n",
    "df.head() \n"
   ]
  },
  {
   "cell_type": "code",
   "execution_count": 57,
   "id": "7c8b6073",
   "metadata": {},
   "outputs": [
    {
     "data": {
      "text/plain": [
       "<Axes: >"
      ]
     },
     "execution_count": 57,
     "metadata": {},
     "output_type": "execute_result"
    },
    {
     "data": {
      "image/png": "[encoded data removed]",
      "text/plain": [
       "<Figure size 640x480 with 1 Axes>"
      ]
     },
     "metadata": {},
     "output_type": "display_data"
    }
   ],
   "source": [
    "df.boxplot(column =[0], grid = False) "
   ]
  },
  {
   "cell_type": "code",
   "execution_count": null,
   "id": "698050e5",
   "metadata": {},
   "outputs": [],
   "source": []
  }
 ],
 "metadata": {
  "kernelspec": {
   "display_name": "Python 3 (ipykernel)",
   "language": "python",
   "name": "python3"
  },
  "language_info": {
   "codemirror_mode": {
    "name": "ipython",
    "version": 3
   },
   "file_extension": ".py",
   "mimetype": "text/x-python",
   "name": "python",
   "nbconvert_exporter": "python",
   "pygments_lexer": "ipython3",
   "version": "3.11.3"
  }
 },
 "nbformat": 4,
 "nbformat_minor": 5
}
