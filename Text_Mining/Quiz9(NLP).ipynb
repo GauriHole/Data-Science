{
 "cells": [
  {
   "cell_type": "code",
   "execution_count": 3,
   "id": "edd049b2",
   "metadata": {},
   "outputs": [],
   "source": [
    "'''3. Create a function that should return a list of stemmed words.\n",
    "    e.g ['running'] = ['run']\n",
    "list = ['painful,'standing','abstraction','magically']\n",
    "'''\n",
    "import nltk\n",
    "#nltk.download('punct')\n",
    "from nltk import word_tokenize"
   ]
  },
  {
   "cell_type": "code",
   "execution_count": 5,
   "id": "f134fad3",
   "metadata": {},
   "outputs": [
    {
     "data": {
      "text/plain": [
       "'pain'"
      ]
     },
     "execution_count": 5,
     "metadata": {},
     "output_type": "execute_result"
    }
   ],
   "source": [
    "#stemming\n",
    "stemmer=nltk.stem.PorterStemmer()\n",
    "stemmer.stem(\"painful\")"
   ]
  },
  {
   "cell_type": "code",
   "execution_count": 6,
   "id": "d343031e",
   "metadata": {},
   "outputs": [
    {
     "data": {
      "text/plain": [
       "'stand'"
      ]
     },
     "execution_count": 6,
     "metadata": {},
     "output_type": "execute_result"
    }
   ],
   "source": [
    "stemmer.stem(\"standing\")"
   ]
  },
  {
   "cell_type": "code",
   "execution_count": 7,
   "id": "9e4ba290",
   "metadata": {},
   "outputs": [
    {
     "data": {
      "text/plain": [
       "'abstract'"
      ]
     },
     "execution_count": 7,
     "metadata": {},
     "output_type": "execute_result"
    }
   ],
   "source": [
    "stemmer.stem(\"abstraction\")"
   ]
  },
  {
   "cell_type": "code",
   "execution_count": 8,
   "id": "5a15ec61",
   "metadata": {},
   "outputs": [
    {
     "data": {
      "text/plain": [
       "'magic'"
      ]
     },
     "execution_count": 8,
     "metadata": {},
     "output_type": "execute_result"
    }
   ],
   "source": [
    "stemmer.stem(\"magically\")"
   ]
  },
  {
   "cell_type": "code",
   "execution_count": 23,
   "id": "e05a3d94",
   "metadata": {
    "scrolled": true
   },
   "outputs": [
    {
     "name": "stderr",
     "output_type": "stream",
     "text": [
      "[nltk_data] Downloading package stopwords to\n",
      "[nltk_data]     C:\\Users\\Lenovo\\AppData\\Roaming\\nltk_data...\n",
      "[nltk_data]   Package stopwords is already up-to-date!\n"
     ]
    },
    {
     "data": {
      "text/plain": [
       "True"
      ]
     },
     "execution_count": 23,
     "metadata": {},
     "output_type": "execute_result"
    }
   ],
   "source": [
    "'''4. Implement a function that takes a list of tokens (words) and removes all stopwords from it. For example, if the \n",
    "input tokens are [\"This\", \"is\", \"a\", \"test\"] and the stopwords are [\"is\", \"a\", \"the\"], the function should  \n",
    "return [\"This\", \"test\"].\n",
    "Stopwords = [“is”,”a”,”the”, “an”,”she”]\n",
    "Sentence1: “an apple is on the table.”\n",
    "Sentence2: “She is an engineer.”\n",
    "'''\n",
    "import nltk\n",
    "from nltk.corpus import stopwords\n",
    "nltk.download('stopwords')"
   ]
  },
  {
   "cell_type": "code",
   "execution_count": 24,
   "id": "25b510bd",
   "metadata": {},
   "outputs": [
    {
     "name": "stdout",
     "output_type": "stream",
     "text": [
      "['apple', 'table']\n",
      "['engineer.']\n"
     ]
    }
   ],
   "source": [
    "def removStopwords(tokens):\n",
    "    stopWords = set(stopwords.words('english'))\n",
    "    RemWords = [word for word in tokens if word.lower() not in stopWords]\n",
    "    return RemWords\n",
    "\n",
    "input1 = \"an apple is on the table\"\n",
    "input2 = \"She is an engineer.\"\n",
    "removeTo = [\"is\", \"a\", \"the\", \"an\", \"she\",\"her\"]\n",
    "\n",
    "input1=input1.split()\n",
    "finalWords = removStopwords(input1)\n",
    "print(finalWords)  \n",
    "\n",
    "input2=input2.split()\n",
    "finalWords = removStopwords(input2)\n",
    "print(finalWords)  "
   ]
  },
  {
   "cell_type": "code",
   "execution_count": 25,
   "id": "d363a127",
   "metadata": {},
   "outputs": [
    {
     "name": "stderr",
     "output_type": "stream",
     "text": [
      "[nltk_data] Downloading package punkt_tab to\n",
      "[nltk_data]     C:\\Users\\Lenovo\\AppData\\Roaming\\nltk_data...\n",
      "[nltk_data]   Package punkt_tab is already up-to-date!\n"
     ]
    }
   ],
   "source": [
    "'''5.\n",
    "Perform lemmatzation on the given text:-\n",
    "text= \"Dancing is an art. Students should be taught dance as a subject in schools . I danced in many of my \n",
    "school function. Some people are always hesitating to dance.\n",
    "'''\n",
    "import nltk\n",
    "nltk.download('punkt_tab')\n",
    "from nltk.stem import WordNetLemmatizer\n",
    "from nltk.tokenize import word_tokenize"
   ]
  },
  {
   "cell_type": "code",
   "execution_count": 26,
   "id": "e76692b4",
   "metadata": {},
   "outputs": [
    {
     "name": "stdout",
     "output_type": "stream",
     "text": [
      "Dancing is an art . Students should be taught dance a a subject in school . I danced in many of my school function . Some people are always hesitant to dance .\n"
     ]
    }
   ],
   "source": [
    "def lemma_text(text):\n",
    "    lem = WordNetLemmatizer()\n",
    "    tokens = word_tokenize(text)\n",
    "    lemma_tokens = [lem.lemmatize(token) for token in tokens]\n",
    "    return ' '.join(lemma_tokens)\n",
    "\n",
    "input_text = \"Dancing is an art. Students should be taught dance as a subject in schools. I danced in many of my school functions. Some people are always hesitant to dance.\"\n",
    "lem_text = lemma_text(input_text)\n",
    "print(lem_text)"
   ]
  },
  {
   "cell_type": "code",
   "execution_count": null,
   "id": "a2abc88f",
   "metadata": {},
   "outputs": [],
   "source": []
  },
  {
   "cell_type": "code",
   "execution_count": null,
   "id": "33b7b7e9",
   "metadata": {},
   "outputs": [],
   "source": []
  }
 ],
 "metadata": {
  "kernelspec": {
   "display_name": "Python 3 (ipykernel)",
   "language": "python",
   "name": "python3"
  },
  "language_info": {
   "codemirror_mode": {
    "name": "ipython",
    "version": 3
   },
   "file_extension": ".py",
   "mimetype": "text/x-python",
   "name": "python",
   "nbconvert_exporter": "python",
   "pygments_lexer": "ipython3",
   "version": "3.11.3"
  }
 },
 "nbformat": 4,
 "nbformat_minor": 5
}
